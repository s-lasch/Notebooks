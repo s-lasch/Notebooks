{
  "nbformat": 4,
  "nbformat_minor": 0,
  "metadata": {
    "colab": {
      "name": "LaTeX.ipynb",
      "provenance": [],
      "include_colab_link": true
    },
    "kernelspec": {
      "name": "python3",
      "display_name": "Python 3"
    }
  },
  "cells": [
    {
      "cell_type": "markdown",
      "metadata": {
        "id": "view-in-github",
        "colab_type": "text"
      },
      "source": [
        "<a href=\"https://colab.research.google.com/github/s-lasch/Notebooks/blob/main/LaTeX.ipynb\" target=\"_parent\"><img src=\"https://colab.research.google.com/assets/colab-badge.svg\" alt=\"Open In Colab\"/></a>"
      ]
    },
    {
      "metadata": {
        "id": "1MGte6eDiUwp"
      },
      "cell_type": "markdown",
      "source": [
        "# Wrap LaTeX statements in dollar signs\n",
        "\n",
        "`$a = 2$`\n",
        "\n",
        "`$b = 7030$`\n",
        "\n",
        "`$c = 4.375$`\n",
        "\n",
        "$a = 2$\n",
        "\n",
        "$b = 7030$\n",
        "\n",
        "$c = 4.375$"
      ]
    },
    {
      "metadata": {
        "id": "6Xcc9x9qnF3b"
      },
      "cell_type": "markdown",
      "source": [
        "# Other LaTeX Commands begin with a backslash"
      ]
    },
    {
      "metadata": {
        "id": "uA-8yn56uK-W"
      },
      "cell_type": "markdown",
      "source": [
        "## Greek Letters:\n",
        "\n",
        "`$\\alpha, \\alpha, \\beta,  \\gamma, \\Gamma, \\pi, \\Pi, \\phi, \\varphi, \\mu, \\Phi$`\n",
        "\n",
        "$\\alpha, \\alpha, \\beta,  \\gamma, \\Gamma, \\pi, \\Pi, \\phi, \\varphi, \\mu, \\Phi$"
      ]
    },
    {
      "metadata": {
        "id": "uYupez6IuMXw"
      },
      "cell_type": "markdown",
      "source": [
        "## Set Notation:\n",
        "\n",
        "`$\\forall x \\in X,  \\exists p \\leq 5$`\n",
        "\n",
        "$\\forall x \\in X,  \\exists p \\leq 5$"
      ]
    },
    {
      "metadata": {
        "id": "mNCknub9uMd_"
      },
      "cell_type": "markdown",
      "source": [
        "## Limits:\n",
        "\n",
        "`$\\lim\\limits_{x \\to \\infty} \\exp(-x) = 0$`\n",
        "\n",
        "$\\lim\\limits_{x \\to \\infty} \\exp(-x) = 0$"
      ]
    },
    {
      "metadata": {
        "id": "WWYvD2NkuMgg"
      },
      "cell_type": "markdown",
      "source": [
        "## Powers using the caret \"^\"\n",
        "\n",
        "`$x^2$`\n",
        "\n",
        "$x^2$\n",
        "\n",
        "## For complicated exponents/indices wrap them in curly braces\n",
        "\n",
        "`$x^{2+i}$`\n",
        "\n",
        "$x^{2+i}$"
      ]
    },
    {
      "metadata": {
        "id": "dZZVlAFouMjJ"
      },
      "cell_type": "markdown",
      "source": [
        "## Indices using the underscore \"_\"\n",
        "\n",
        "`$B_{i}$`\n",
        "\n",
        "$B_{i}$\n",
        "\n",
        "> ### Combining powers and indices:\n",
        "\n",
        "`$k_{n+1} = n^2 + k_n^2 - k_{n-1}$`\n",
        "\n",
        "$k_{n+1} = n^2 + k_n^2 - k_{n-1}$"
      ]
    },
    {
      "metadata": {
        "id": "BvnnHiyNuMlx"
      },
      "cell_type": "markdown",
      "source": [
        "## Fractions\n",
        "\n",
        "`$\\frac{2}{3}$`\n",
        "\n",
        "$\\frac{2}{3}$\n",
        "\n",
        "`$\\frac{n!}{k!(n-k)!}$`\n",
        "\n",
        "$\\frac{n!}{k!(n-k)!}$\n"
      ]
    },
    {
      "metadata": {
        "id": "MD-e3F2huMoM"
      },
      "cell_type": "markdown",
      "source": [
        "## Binomials\n",
        "\n",
        "`$\\binom{n}{k}$`\n",
        "\n",
        "$\\binom{n}{k}$"
      ]
    },
    {
      "metadata": {
        "id": "bbkWGixWuMq0"
      },
      "cell_type": "markdown",
      "source": [
        "\n",
        "## Roots\n",
        "\n",
        "`$\\sqrt{2}$`\n",
        "\n",
        "$\\sqrt{2}$\n",
        "\n",
        "`$\\sqrt{a^2 + b^2}$`\n",
        "\n",
        "$\\sqrt{a^2 + b^2}$"
      ]
    },
    {
      "metadata": {
        "id": "lXWKRRrbuMtf"
      },
      "cell_type": "markdown",
      "source": [
        "## Sums\n",
        "\n",
        "`$\\sum_{i=1}^{10} t_i$`\n",
        "\n",
        "$\\sum_{i=1}^{10} t_i$\n",
        "\n",
        "or\n",
        "\n",
        "`$\\displaystyle\\sum_{i=1}^{10} t_i$`\n",
        "\n",
        "$\\displaystyle\\sum_{i=1}^{10} t_i$"
      ]
    },
    {
      "metadata": {
        "id": "4ltVCkmMuMwC"
      },
      "cell_type": "markdown",
      "source": [
        "## Integrals\n",
        "\n",
        "`$\\int\\limits_a^b$`\n",
        "\n",
        "$\\int\\limits_a^b$"
      ]
    },
    {
      "metadata": {
        "id": "Rezf8zTHuM2E"
      },
      "cell_type": "markdown",
      "source": [
        "## Brackets and Delimiters\n",
        "\n",
        "`$( a ), [ b ], \\{ c \\}, | d |, \\| e \\|,\n",
        "\\langle f \\rangle, \\lfloor g \\rfloor,\n",
        "\\lceil h \\rceil, \\ulcorner i \\urcorner$`\n",
        "\n",
        "$( a ), [ b ], \\{ c \\}, | d |, \\| e \\|,\n",
        "\\langle f \\rangle, \\lfloor g \\rfloor,\n",
        "\\lceil h \\rceil, \\ulcorner i \\urcorner$"
      ]
    },
    {
      "metadata": {
        "id": "n4y2BktsuM4k"
      },
      "cell_type": "markdown",
      "source": [
        "\n",
        "## Vectors\n",
        "\n",
        "$\\vec{a} = \n",
        "  \\begin{pmatrix}\n",
        "           1\\\\\n",
        "           2\n",
        "  \\end{pmatrix}$\n",
        "  \n",
        "## Matrices \n",
        " \n",
        " $B = \\begin{bmatrix}\n",
        "  a & b & c \\\\\n",
        "  d & e & f \\\\\n",
        "  g & h & i\n",
        " \\end{bmatrix}$\n",
        " \n"
      ]
    },
    {
      "metadata": {
        "id": "6wByKc1EvU2m"
      },
      "cell_type": "markdown",
      "source": [
        "## Whitespace\n",
        "\n",
        "Often the most difficult part of LaTeX is getting the sizing and whitespace to cooperate.\n",
        "\n",
        "Wrapping an entire equation in the \\equation wrappers often helps keep it \n",
        "\n",
        "Colab will recognize many of these commands as LaTeX without the dollar signs as well.\n",
        "\n",
        "`$\\begin{equation}\n",
        "  x = a_0 + \\cfrac{1}{a_1 \n",
        "          + \\cfrac{1}{a_2 \n",
        "          + \\cfrac{1}{a_3 + \\cfrac{1}{a_4} } } }\n",
        "\\end{equation}$`\n",
        "\n",
        "$\\begin{equation}\n",
        "  x = a_0 + \\cfrac{1}{a_1 \n",
        "          + \\cfrac{1}{a_2 \n",
        "          + \\cfrac{1}{a_3 + \\cfrac{1}{a_4} } } }\n",
        "\\end{equation}$\n",
        "\n",
        "\n",
        "### Horizontal Spacing Options\n",
        "\n",
        "<https://tex.stackexchange.com/questions/74353/what-commands-are-there-for-horizontal-spacing>\n",
        "\n",
        "`\\quad` is probably my favorite horizontal spacing option.\n",
        "\n",
        "`$ a \\quad b^2 \\quad c_i \\quad \\pi $`\n",
        "\n",
        "$ a \\quad b^2 \\quad c_i \\quad \\pi $\n",
        "\n",
        "### Centering Equations\n",
        "\n",
        "\n",
        "\\begin{align}\n",
        "c = -6.022\\mathrm{e}{+23}\n",
        "\\qquad\n",
        "d = \\pi\n",
        "\\end{align}"
      ]
    },
    {
      "metadata": {
        "id": "sLjmDtKdvU5i"
      },
      "cell_type": "markdown",
      "source": [
        "## Normal Text in \"Math Mode\"\n",
        "\n",
        "\"Math Mode\" is what it's called when you're inside of a statement that is wrapped in dollar signs.\n",
        "\n",
        "`$ a+b = 12 ... \\textrm{normal text} ... \\frac{1}{2}$`\n",
        "\n",
        "$ a+b = 12 ... \\textrm{normal text} ... \\frac{1}{2}$"
      ]
    },
    {
      "metadata": {
        "id": "eg7F6bUSvU7k"
      },
      "cell_type": "markdown",
      "source": [
        ""
      ]
    },
    {
      "metadata": {
        "id": "7wMsV1I0vU9m"
      },
      "cell_type": "markdown",
      "source": [
        "# Lets try to recreate a few of these formulas together:\n",
        "\n",
        "You can use the site: <http://latex2png.com/> To convert LaTeX into downloadable PNGs. \n",
        " \n",
        " "
      ]
    },
    {
      "metadata": {
        "id": "KTukV71BvU_o"
      },
      "cell_type": "markdown",
      "source": [
        "## Quadratic Formula\n",
        "![Quadratic Formula](http://www.ryanleeallred.com/wp-content/uploads/2018/11/quadratic-formula.png)"
      ]
    },
    {
      "metadata": {
        "id": "m5jInDHN1TLC"
      },
      "cell_type": "markdown",
      "source": [
        "$x=\\frac{-b\\pm\\sqrt{b^{2}-4ac}}{2a}$"
      ]
    },
    {
      "metadata": {
        "id": "6YMJmjYBuM7F"
      },
      "cell_type": "markdown",
      "source": [
        "## Standard Deviation\n",
        "\n",
        "![Standard Deviation](http://www.ryanleeallred.com/wp-content/uploads/2018/11/standard-deviation-formula.png)"
      ]
    },
    {
      "metadata": {
        "id": "jeGAS6fh1Twz"
      },
      "cell_type": "markdown",
      "source": [
        "$\\sigma = \\sqrt{\\frac{1}{N}\\sum_{i=1}^{N}(x_i-\\mu)^2}$"
      ]
    },
    {
      "metadata": {
        "id": "jBEMidG_xZaQ"
      },
      "cell_type": "markdown",
      "source": [
        "## General Matrix Notation\n",
        "\n",
        "![General Matrix Notation](http://www.ryanleeallred.com/wp-content/uploads/2018/11/matrix-latex.png)"
      ]
    },
    {
      "metadata": {
        "id": "Ali4HKkU1Up0"
      },
      "cell_type": "markdown",
      "source": [
        "$A_{m,n} = \n",
        "\\begin{pmatrix} \n",
        " a_{1,1} & a_{1,2} & \\cdots & a_{1,n} \\\\\n",
        " a_{2,1} & a_{2,2} & \\cdots & a_{2,n} \\\\\n",
        "\\vdots & \\vdots & \\ddots & \\vdots \\\\\n",
        " a_{m,1} & a_{m,2} & \\cdots & a_{m,n} \n",
        "\\end{pmatrix}$"
      ]
    },
    {
      "metadata": {
        "id": "XvCDMHKO3_xv"
      },
      "cell_type": "markdown",
      "source": [
        "# Assignment:\n",
        "\n",
        "## “What are your goals for data science?”"
      ]
    },
    {
      "metadata": {
        "id": "2myrzqFd3UXC"
      },
      "cell_type": "markdown",
      "source": [
        "# Stretch Goal (1): \n",
        "\n",
        "## Try to recreate these formulas on your own:\n",
        "\n",
        "### Cauchy's Integral Formula\n",
        "\n",
        "![Cauchy's Integral Formula](http://www.ryanleeallred.com/wp-content/uploads/2018/11/cauchy-integral.png)\n",
        "\n",
        "$f(a) = \\frac{1}{2\\pi i}\\oint\\frac{f(z)}{z-a}dz$\n",
        "\n",
        "### Definition of Christoffel Symbols\n",
        "\n",
        "![Definition of Christoffel Symbols](http://www.ryanleeallred.com/wp-content/uploads/2018/11/christoffel-symbols-equation.png)\n",
        "\n",
        "$(\\nabla_XY)^k = X^i(\\nabla_iY)^k = X^i(\\frac{\\partial Y^k}{\\partial X^i}+\\Gamma_{im}^k Y^m)$\n",
        "\n",
        "### Curl of a Vector Field\n",
        "\n",
        "![Curl of a Vector Field Equation](http://www.ryanleeallred.com/wp-content/uploads/2018/11/curl-of-a-vector-field-equation.png)\n",
        "\n",
        "$\\vec\\nabla \\times \\vec F = (\\frac{\\partial F_z}{\\partial y} - \\frac{\\partial F_y}{\\partial z})\\textrm{i} + (\\frac{\\partial F_x}{\\partial z} - \\frac{\\partial F_z}{\\partial x})\\textrm{j} + (\\frac{\\partial F_y}{\\partial x} - \\frac{\\partial F_x}{\\partial y})\\textrm{k}$ "
      ]
    },
    {
      "metadata": {
        "id": "KykMUyao467z"
      },
      "cell_type": "markdown",
      "source": [
        "# Stretch Goal (2):\n",
        "\n",
        "Visit: <https://projecteuler.net/>\n",
        "\n",
        "Make an account and begin solving the challenges using Python. For each challenge that you solve, write an explanation of why your solution works using LaTeX. "
      ]
    }
  ]
}