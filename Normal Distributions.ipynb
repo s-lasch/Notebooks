{
  "nbformat": 4,
  "nbformat_minor": 0,
  "metadata": {
    "colab": {
      "name": "Normal Distributions.ipynb",
      "provenance": [],
      "authorship_tag": "ABX9TyMOXncb6B8AhXSLEBp+pxCK",
      "include_colab_link": true
    },
    "kernelspec": {
      "name": "python3",
      "display_name": "Python 3"
    },
    "language_info": {
      "name": "python"
    }
  },
  "cells": [
    {
      "cell_type": "markdown",
      "metadata": {
        "id": "view-in-github",
        "colab_type": "text"
      },
      "source": [
        "<a href=\"https://colab.research.google.com/github/s-lasch/Notebooks/blob/main/Normal%20Distributions.ipynb\" target=\"_parent\"><img src=\"https://colab.research.google.com/assets/colab-badge.svg\" alt=\"Open In Colab\"/></a>"
      ]
    },
    {
      "cell_type": "code",
      "execution_count": 2,
      "metadata": {
        "id": "QRFahZhkzAMG"
      },
      "outputs": [],
      "source": [
        "import scipy.stats as st"
      ]
    },
    {
      "cell_type": "code",
      "source": [
        ""
      ],
      "metadata": {
        "id": "wE_eEqDTzKR5"
      },
      "execution_count": null,
      "outputs": []
    }
  ]
}